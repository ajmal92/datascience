{
  "cells": [
    {
      "cell_type": "markdown",
      "metadata": {
        "id": "view-in-github",
        "colab_type": "text"
      },
      "source": [
        "<a href=\"https://colab.research.google.com/github/ajmal92/datascience/blob/main/Delhivery_Feature_Engineering.ipynb\" target=\"_parent\"><img src=\"https://colab.research.google.com/assets/colab-badge.svg\" alt=\"Open In Colab\"/></a>"
      ]
    },
    {
      "cell_type": "markdown",
      "id": "483a8c19",
      "metadata": {
        "id": "483a8c19"
      },
      "source": [
        "## Problem Statement"
      ]
    },
    {
      "cell_type": "markdown",
      "id": "56d58aff",
      "metadata": {
        "id": "56d58aff"
      },
      "source": [
        "#### About Delhivery\n",
        "\n",
        "Delhivery is the largest and fastest-growing fully integrated player in India by revenue in Fiscal 2021. They aim to build the operating system for commerce, through a combination of world-class infrastructure, logistics operations of the highest quality, and cutting-edge engineering and technology capabilities.\n",
        "\n",
        "The Data team builds intelligence and capabilities using this data that helps them to widen the gap between the quality, efficiency, and profitability of their business versus their competitors.\n",
        "\n",
        "#### How can you help here?\n",
        "\n",
        "The company wants to understand and process the data coming out of data engineering pipelines:\n",
        "\n",
        "• Clean, sanitize and manipulate data to get useful features out of raw fields\n",
        "\n",
        "• Make sense out of the raw data and help the data science team to build forecasting models on it"
      ]
    },
    {
      "cell_type": "code",
      "execution_count": null,
      "id": "58890e32",
      "metadata": {
        "id": "58890e32"
      },
      "outputs": [],
      "source": [
        "import pandas as pd\n",
        "import numpy as np\n",
        "import seaborn as sns\n",
        "import scipy.stats as stats"
      ]
    },
    {
      "cell_type": "code",
      "execution_count": null,
      "id": "f826e9d6",
      "metadata": {
        "id": "f826e9d6"
      },
      "outputs": [],
      "source": [
        "df = pd.read_csv(\"/Users/ajmal.m/Downloads/delhivery_data.txt\")"
      ]
    },
    {
      "cell_type": "code",
      "execution_count": null,
      "id": "6ebfd1d4",
      "metadata": {
        "id": "6ebfd1d4",
        "outputId": "3833f900-cd44-4426-df3f-8ec458a78644"
      },
      "outputs": [
        {
          "data": {
            "text/html": [
              "<div>\n",
              "<style scoped>\n",
              "    .dataframe tbody tr th:only-of-type {\n",
              "        vertical-align: middle;\n",
              "    }\n",
              "\n",
              "    .dataframe tbody tr th {\n",
              "        vertical-align: top;\n",
              "    }\n",
              "\n",
              "    .dataframe thead th {\n",
              "        text-align: right;\n",
              "    }\n",
              "</style>\n",
              "<table border=\"1\" class=\"dataframe\">\n",
              "  <thead>\n",
              "    <tr style=\"text-align: right;\">\n",
              "      <th></th>\n",
              "      <th>data</th>\n",
              "      <th>trip_creation_time</th>\n",
              "      <th>route_schedule_uuid</th>\n",
              "      <th>route_type</th>\n",
              "      <th>trip_uuid</th>\n",
              "      <th>source_center</th>\n",
              "      <th>source_name</th>\n",
              "      <th>destination_center</th>\n",
              "      <th>destination_name</th>\n",
              "      <th>od_start_time</th>\n",
              "      <th>...</th>\n",
              "      <th>cutoff_timestamp</th>\n",
              "      <th>actual_distance_to_destination</th>\n",
              "      <th>actual_time</th>\n",
              "      <th>osrm_time</th>\n",
              "      <th>osrm_distance</th>\n",
              "      <th>factor</th>\n",
              "      <th>segment_actual_time</th>\n",
              "      <th>segment_osrm_time</th>\n",
              "      <th>segment_osrm_distance</th>\n",
              "      <th>segment_factor</th>\n",
              "    </tr>\n",
              "  </thead>\n",
              "  <tbody>\n",
              "    <tr>\n",
              "      <th>0</th>\n",
              "      <td>training</td>\n",
              "      <td>2018-09-20 02:35:36.476840</td>\n",
              "      <td>thanos::sroute:eb7bfc78-b351-4c0e-a951-fa3d5c3...</td>\n",
              "      <td>Carting</td>\n",
              "      <td>trip-153741093647649320</td>\n",
              "      <td>IND388121AAA</td>\n",
              "      <td>Anand_VUNagar_DC (Gujarat)</td>\n",
              "      <td>IND388620AAB</td>\n",
              "      <td>Khambhat_MotvdDPP_D (Gujarat)</td>\n",
              "      <td>2018-09-20 03:21:32.418600</td>\n",
              "      <td>...</td>\n",
              "      <td>2018-09-20 04:27:55</td>\n",
              "      <td>10.435660</td>\n",
              "      <td>14.0</td>\n",
              "      <td>11.0</td>\n",
              "      <td>11.9653</td>\n",
              "      <td>1.272727</td>\n",
              "      <td>14.0</td>\n",
              "      <td>11.0</td>\n",
              "      <td>11.9653</td>\n",
              "      <td>1.272727</td>\n",
              "    </tr>\n",
              "    <tr>\n",
              "      <th>1</th>\n",
              "      <td>training</td>\n",
              "      <td>2018-09-20 02:35:36.476840</td>\n",
              "      <td>thanos::sroute:eb7bfc78-b351-4c0e-a951-fa3d5c3...</td>\n",
              "      <td>Carting</td>\n",
              "      <td>trip-153741093647649320</td>\n",
              "      <td>IND388121AAA</td>\n",
              "      <td>Anand_VUNagar_DC (Gujarat)</td>\n",
              "      <td>IND388620AAB</td>\n",
              "      <td>Khambhat_MotvdDPP_D (Gujarat)</td>\n",
              "      <td>2018-09-20 03:21:32.418600</td>\n",
              "      <td>...</td>\n",
              "      <td>2018-09-20 04:17:55</td>\n",
              "      <td>18.936842</td>\n",
              "      <td>24.0</td>\n",
              "      <td>20.0</td>\n",
              "      <td>21.7243</td>\n",
              "      <td>1.200000</td>\n",
              "      <td>10.0</td>\n",
              "      <td>9.0</td>\n",
              "      <td>9.7590</td>\n",
              "      <td>1.111111</td>\n",
              "    </tr>\n",
              "    <tr>\n",
              "      <th>2</th>\n",
              "      <td>training</td>\n",
              "      <td>2018-09-20 02:35:36.476840</td>\n",
              "      <td>thanos::sroute:eb7bfc78-b351-4c0e-a951-fa3d5c3...</td>\n",
              "      <td>Carting</td>\n",
              "      <td>trip-153741093647649320</td>\n",
              "      <td>IND388121AAA</td>\n",
              "      <td>Anand_VUNagar_DC (Gujarat)</td>\n",
              "      <td>IND388620AAB</td>\n",
              "      <td>Khambhat_MotvdDPP_D (Gujarat)</td>\n",
              "      <td>2018-09-20 03:21:32.418600</td>\n",
              "      <td>...</td>\n",
              "      <td>2018-09-20 04:01:19.505586</td>\n",
              "      <td>27.637279</td>\n",
              "      <td>40.0</td>\n",
              "      <td>28.0</td>\n",
              "      <td>32.5395</td>\n",
              "      <td>1.428571</td>\n",
              "      <td>16.0</td>\n",
              "      <td>7.0</td>\n",
              "      <td>10.8152</td>\n",
              "      <td>2.285714</td>\n",
              "    </tr>\n",
              "  </tbody>\n",
              "</table>\n",
              "<p>3 rows × 24 columns</p>\n",
              "</div>"
            ],
            "text/plain": [
              "       data          trip_creation_time  \\\n",
              "0  training  2018-09-20 02:35:36.476840   \n",
              "1  training  2018-09-20 02:35:36.476840   \n",
              "2  training  2018-09-20 02:35:36.476840   \n",
              "\n",
              "                                 route_schedule_uuid route_type  \\\n",
              "0  thanos::sroute:eb7bfc78-b351-4c0e-a951-fa3d5c3...    Carting   \n",
              "1  thanos::sroute:eb7bfc78-b351-4c0e-a951-fa3d5c3...    Carting   \n",
              "2  thanos::sroute:eb7bfc78-b351-4c0e-a951-fa3d5c3...    Carting   \n",
              "\n",
              "                 trip_uuid source_center                 source_name  \\\n",
              "0  trip-153741093647649320  IND388121AAA  Anand_VUNagar_DC (Gujarat)   \n",
              "1  trip-153741093647649320  IND388121AAA  Anand_VUNagar_DC (Gujarat)   \n",
              "2  trip-153741093647649320  IND388121AAA  Anand_VUNagar_DC (Gujarat)   \n",
              "\n",
              "  destination_center               destination_name  \\\n",
              "0       IND388620AAB  Khambhat_MotvdDPP_D (Gujarat)   \n",
              "1       IND388620AAB  Khambhat_MotvdDPP_D (Gujarat)   \n",
              "2       IND388620AAB  Khambhat_MotvdDPP_D (Gujarat)   \n",
              "\n",
              "                od_start_time  ...            cutoff_timestamp  \\\n",
              "0  2018-09-20 03:21:32.418600  ...         2018-09-20 04:27:55   \n",
              "1  2018-09-20 03:21:32.418600  ...         2018-09-20 04:17:55   \n",
              "2  2018-09-20 03:21:32.418600  ...  2018-09-20 04:01:19.505586   \n",
              "\n",
              "   actual_distance_to_destination  actual_time  osrm_time osrm_distance  \\\n",
              "0                       10.435660         14.0       11.0       11.9653   \n",
              "1                       18.936842         24.0       20.0       21.7243   \n",
              "2                       27.637279         40.0       28.0       32.5395   \n",
              "\n",
              "     factor  segment_actual_time  segment_osrm_time  segment_osrm_distance  \\\n",
              "0  1.272727                 14.0               11.0                11.9653   \n",
              "1  1.200000                 10.0                9.0                 9.7590   \n",
              "2  1.428571                 16.0                7.0                10.8152   \n",
              "\n",
              "   segment_factor  \n",
              "0        1.272727  \n",
              "1        1.111111  \n",
              "2        2.285714  \n",
              "\n",
              "[3 rows x 24 columns]"
            ]
          },
          "execution_count": 668,
          "metadata": {},
          "output_type": "execute_result"
        }
      ],
      "source": [
        "df.head(3)"
      ]
    },
    {
      "cell_type": "code",
      "execution_count": null,
      "id": "1793ee41",
      "metadata": {
        "id": "1793ee41",
        "outputId": "037b193e-6d87-4d38-c091-5083e3df38e9"
      },
      "outputs": [
        {
          "data": {
            "text/plain": [
              "Index(['data', 'trip_creation_time', 'route_schedule_uuid', 'route_type',\n",
              "       'trip_uuid', 'source_center', 'source_name', 'destination_center',\n",
              "       'destination_name', 'od_start_time', 'od_end_time',\n",
              "       'start_scan_to_end_scan', 'is_cutoff', 'cutoff_factor',\n",
              "       'cutoff_timestamp', 'actual_distance_to_destination', 'actual_time',\n",
              "       'osrm_time', 'osrm_distance', 'factor', 'segment_actual_time',\n",
              "       'segment_osrm_time', 'segment_osrm_distance', 'segment_factor'],\n",
              "      dtype='object')"
            ]
          },
          "execution_count": 153,
          "metadata": {},
          "output_type": "execute_result"
        }
      ],
      "source": [
        "df.columns"
      ]
    },
    {
      "cell_type": "code",
      "execution_count": null,
      "id": "79f8c029",
      "metadata": {
        "id": "79f8c029",
        "outputId": "c338d1c6-92fa-41ee-be34-0d37f81f565b"
      },
      "outputs": [
        {
          "data": {
            "text/plain": [
              "data                                0\n",
              "trip_creation_time                  0\n",
              "route_schedule_uuid                 0\n",
              "route_type                          0\n",
              "trip_uuid                           0\n",
              "source_center                       0\n",
              "source_name                       293\n",
              "destination_center                  0\n",
              "destination_name                  261\n",
              "od_start_time                       0\n",
              "od_end_time                         0\n",
              "start_scan_to_end_scan              0\n",
              "is_cutoff                           0\n",
              "cutoff_factor                       0\n",
              "cutoff_timestamp                    0\n",
              "actual_distance_to_destination      0\n",
              "actual_time                         0\n",
              "osrm_time                           0\n",
              "osrm_distance                       0\n",
              "factor                              0\n",
              "segment_actual_time                 0\n",
              "segment_osrm_time                   0\n",
              "segment_osrm_distance               0\n",
              "segment_factor                      0\n",
              "dtype: int64"
            ]
          },
          "execution_count": 626,
          "metadata": {},
          "output_type": "execute_result"
        }
      ],
      "source": [
        "df.isna().sum()"
      ]
    },
    {
      "cell_type": "markdown",
      "id": "456bd7dc",
      "metadata": {
        "id": "456bd7dc"
      },
      "source": [
        "- Source name has 293 null rows and destination_name as 261 null entries"
      ]
    },
    {
      "cell_type": "code",
      "execution_count": null,
      "id": "cb342ac4",
      "metadata": {
        "id": "cb342ac4",
        "outputId": "9e57645d-2b79-4f50-bc3e-84a176f11fc6"
      },
      "outputs": [
        {
          "data": {
            "text/plain": [
              "(144867, 24)"
            ]
          },
          "execution_count": 8,
          "metadata": {},
          "output_type": "execute_result"
        }
      ],
      "source": [
        "df.shape"
      ]
    },
    {
      "cell_type": "markdown",
      "id": "891eeb17",
      "metadata": {
        "id": "891eeb17"
      },
      "source": [
        "There are 144867 rows and 24 columns in the data"
      ]
    },
    {
      "cell_type": "code",
      "execution_count": null,
      "id": "dfacbb37",
      "metadata": {
        "id": "dfacbb37"
      },
      "outputs": [],
      "source": [
        "df = df.dropna()"
      ]
    },
    {
      "cell_type": "code",
      "execution_count": null,
      "id": "71a59499",
      "metadata": {
        "id": "71a59499"
      },
      "outputs": [],
      "source": [
        "for col in ['trip_creation_time', 'od_start_time', 'od_end_time']:\n",
        "    df[col] = pd.to_datetime(df[col])"
      ]
    },
    {
      "cell_type": "code",
      "execution_count": null,
      "id": "5efc8146",
      "metadata": {
        "id": "5efc8146",
        "outputId": "57538f1d-2b9c-42be-ce65-30d7ec9e0136"
      },
      "outputs": [
        {
          "name": "stdout",
          "output_type": "stream",
          "text": [
            "<class 'pandas.core.frame.DataFrame'>\n",
            "Int64Index: 144316 entries, 0 to 144866\n",
            "Data columns (total 24 columns):\n",
            " #   Column                          Non-Null Count   Dtype         \n",
            "---  ------                          --------------   -----         \n",
            " 0   data                            144316 non-null  object        \n",
            " 1   trip_creation_time              144316 non-null  datetime64[ns]\n",
            " 2   route_schedule_uuid             144316 non-null  object        \n",
            " 3   route_type                      144316 non-null  object        \n",
            " 4   trip_uuid                       144316 non-null  object        \n",
            " 5   source_center                   144316 non-null  object        \n",
            " 6   source_name                     144316 non-null  object        \n",
            " 7   destination_center              144316 non-null  object        \n",
            " 8   destination_name                144316 non-null  object        \n",
            " 9   od_start_time                   144316 non-null  datetime64[ns]\n",
            " 10  od_end_time                     144316 non-null  datetime64[ns]\n",
            " 11  start_scan_to_end_scan          144316 non-null  float64       \n",
            " 12  is_cutoff                       144316 non-null  bool          \n",
            " 13  cutoff_factor                   144316 non-null  int64         \n",
            " 14  cutoff_timestamp                144316 non-null  object        \n",
            " 15  actual_distance_to_destination  144316 non-null  float64       \n",
            " 16  actual_time                     144316 non-null  float64       \n",
            " 17  osrm_time                       144316 non-null  float64       \n",
            " 18  osrm_distance                   144316 non-null  float64       \n",
            " 19  factor                          144316 non-null  float64       \n",
            " 20  segment_actual_time             144316 non-null  float64       \n",
            " 21  segment_osrm_time               144316 non-null  float64       \n",
            " 22  segment_osrm_distance           144316 non-null  float64       \n",
            " 23  segment_factor                  144316 non-null  float64       \n",
            "dtypes: bool(1), datetime64[ns](3), float64(10), int64(1), object(9)\n",
            "memory usage: 26.6+ MB\n"
          ]
        }
      ],
      "source": [
        "df.info()"
      ]
    },
    {
      "cell_type": "markdown",
      "id": "4befa823",
      "metadata": {
        "id": "4befa823"
      },
      "source": [
        "### Feature Engineering - place and state"
      ]
    },
    {
      "cell_type": "code",
      "execution_count": null,
      "id": "ca0154d2",
      "metadata": {
        "scrolled": true,
        "id": "ca0154d2"
      },
      "outputs": [],
      "source": [
        "def get_city(x):\n",
        "    return str(x).split('(')[0].strip().split(\"_\")[0]\n",
        "\n",
        "def get_state(x):\n",
        "    return str(x).split('(')[1][:-1]\n",
        "\n",
        "def get_place(x):\n",
        "    x = str(x).split(\"(\")[0].strip()\n",
        "    if len(x.split(\"_\"))==3:\n",
        "        return x.split(\"_\")[-1]\n",
        "    else:\n",
        "        'None'"
      ]
    },
    {
      "cell_type": "code",
      "execution_count": null,
      "id": "cdab69d3",
      "metadata": {
        "id": "cdab69d3"
      },
      "outputs": [],
      "source": [
        "df['source_state'] = df['source_name'].apply(lambda x: get_state(x))\n",
        "df['destination_state'] = df['destination_name'].apply(lambda x: get_state(x))\n",
        "df['source_city'] = df['source_name'].apply(lambda x: get_city(x))\n",
        "df['destination_city'] = df['destination_name'].apply(lambda x: get_city(x))\n",
        "df['source_place'] = df['source_name'].apply(lambda x: get_place(x))\n",
        "df['destination_place'] = df['destination_name'].apply(lambda x: get_place(x))"
      ]
    },
    {
      "cell_type": "code",
      "execution_count": null,
      "id": "2e5ea9b5",
      "metadata": {
        "id": "2e5ea9b5"
      },
      "outputs": [],
      "source": [
        "segment_cols = [col for col in df.columns if 'segment' in col]"
      ]
    },
    {
      "cell_type": "code",
      "execution_count": null,
      "id": "a22e9c42",
      "metadata": {
        "id": "a22e9c42"
      },
      "outputs": [],
      "source": [
        "segment_group_by = ['trip_uuid', 'source_center', 'destination_center']"
      ]
    },
    {
      "cell_type": "code",
      "execution_count": null,
      "id": "4f9cc1bb",
      "metadata": {
        "id": "4f9cc1bb",
        "outputId": "3ab8319b-5a39-433a-f992-bc1bf5997232"
      },
      "outputs": [
        {
          "data": {
            "text/html": [
              "<div>\n",
              "<style scoped>\n",
              "    .dataframe tbody tr th:only-of-type {\n",
              "        vertical-align: middle;\n",
              "    }\n",
              "\n",
              "    .dataframe tbody tr th {\n",
              "        vertical-align: top;\n",
              "    }\n",
              "\n",
              "    .dataframe thead th {\n",
              "        text-align: right;\n",
              "    }\n",
              "</style>\n",
              "<table border=\"1\" class=\"dataframe\">\n",
              "  <thead>\n",
              "    <tr style=\"text-align: right;\">\n",
              "      <th></th>\n",
              "      <th>data</th>\n",
              "      <th>trip_creation_time</th>\n",
              "      <th>route_schedule_uuid</th>\n",
              "      <th>route_type</th>\n",
              "      <th>trip_uuid</th>\n",
              "      <th>source_center</th>\n",
              "      <th>source_name</th>\n",
              "      <th>destination_center</th>\n",
              "      <th>destination_name</th>\n",
              "      <th>od_start_time</th>\n",
              "      <th>...</th>\n",
              "      <th>segment_actual_time</th>\n",
              "      <th>segment_osrm_time</th>\n",
              "      <th>segment_osrm_distance</th>\n",
              "      <th>segment_factor</th>\n",
              "      <th>source_state</th>\n",
              "      <th>destination_state</th>\n",
              "      <th>source_city</th>\n",
              "      <th>destination_city</th>\n",
              "      <th>source_place</th>\n",
              "      <th>destination_place</th>\n",
              "    </tr>\n",
              "  </thead>\n",
              "  <tbody>\n",
              "    <tr>\n",
              "      <th>0</th>\n",
              "      <td>training</td>\n",
              "      <td>2018-09-20 02:35:36.476840</td>\n",
              "      <td>thanos::sroute:eb7bfc78-b351-4c0e-a951-fa3d5c3...</td>\n",
              "      <td>Carting</td>\n",
              "      <td>trip-153741093647649320</td>\n",
              "      <td>IND388121AAA</td>\n",
              "      <td>Anand_VUNagar_DC (Gujarat)</td>\n",
              "      <td>IND388620AAB</td>\n",
              "      <td>Khambhat_MotvdDPP_D (Gujarat)</td>\n",
              "      <td>2018-09-20 03:21:32.418600</td>\n",
              "      <td>...</td>\n",
              "      <td>14.0</td>\n",
              "      <td>11.0</td>\n",
              "      <td>11.9653</td>\n",
              "      <td>1.272727</td>\n",
              "      <td>Gujarat</td>\n",
              "      <td>Gujarat</td>\n",
              "      <td>Anand_VUNagar_DC</td>\n",
              "      <td>Khambhat_MotvdDPP_D</td>\n",
              "      <td>DC</td>\n",
              "      <td>D</td>\n",
              "    </tr>\n",
              "    <tr>\n",
              "      <th>1</th>\n",
              "      <td>training</td>\n",
              "      <td>2018-09-20 02:35:36.476840</td>\n",
              "      <td>thanos::sroute:eb7bfc78-b351-4c0e-a951-fa3d5c3...</td>\n",
              "      <td>Carting</td>\n",
              "      <td>trip-153741093647649320</td>\n",
              "      <td>IND388121AAA</td>\n",
              "      <td>Anand_VUNagar_DC (Gujarat)</td>\n",
              "      <td>IND388620AAB</td>\n",
              "      <td>Khambhat_MotvdDPP_D (Gujarat)</td>\n",
              "      <td>2018-09-20 03:21:32.418600</td>\n",
              "      <td>...</td>\n",
              "      <td>10.0</td>\n",
              "      <td>9.0</td>\n",
              "      <td>9.7590</td>\n",
              "      <td>1.111111</td>\n",
              "      <td>Gujarat</td>\n",
              "      <td>Gujarat</td>\n",
              "      <td>Anand_VUNagar_DC</td>\n",
              "      <td>Khambhat_MotvdDPP_D</td>\n",
              "      <td>DC</td>\n",
              "      <td>D</td>\n",
              "    </tr>\n",
              "    <tr>\n",
              "      <th>2</th>\n",
              "      <td>training</td>\n",
              "      <td>2018-09-20 02:35:36.476840</td>\n",
              "      <td>thanos::sroute:eb7bfc78-b351-4c0e-a951-fa3d5c3...</td>\n",
              "      <td>Carting</td>\n",
              "      <td>trip-153741093647649320</td>\n",
              "      <td>IND388121AAA</td>\n",
              "      <td>Anand_VUNagar_DC (Gujarat)</td>\n",
              "      <td>IND388620AAB</td>\n",
              "      <td>Khambhat_MotvdDPP_D (Gujarat)</td>\n",
              "      <td>2018-09-20 03:21:32.418600</td>\n",
              "      <td>...</td>\n",
              "      <td>16.0</td>\n",
              "      <td>7.0</td>\n",
              "      <td>10.8152</td>\n",
              "      <td>2.285714</td>\n",
              "      <td>Gujarat</td>\n",
              "      <td>Gujarat</td>\n",
              "      <td>Anand_VUNagar_DC</td>\n",
              "      <td>Khambhat_MotvdDPP_D</td>\n",
              "      <td>DC</td>\n",
              "      <td>D</td>\n",
              "    </tr>\n",
              "    <tr>\n",
              "      <th>3</th>\n",
              "      <td>training</td>\n",
              "      <td>2018-09-20 02:35:36.476840</td>\n",
              "      <td>thanos::sroute:eb7bfc78-b351-4c0e-a951-fa3d5c3...</td>\n",
              "      <td>Carting</td>\n",
              "      <td>trip-153741093647649320</td>\n",
              "      <td>IND388121AAA</td>\n",
              "      <td>Anand_VUNagar_DC (Gujarat)</td>\n",
              "      <td>IND388620AAB</td>\n",
              "      <td>Khambhat_MotvdDPP_D (Gujarat)</td>\n",
              "      <td>2018-09-20 03:21:32.418600</td>\n",
              "      <td>...</td>\n",
              "      <td>21.0</td>\n",
              "      <td>12.0</td>\n",
              "      <td>13.0224</td>\n",
              "      <td>1.750000</td>\n",
              "      <td>Gujarat</td>\n",
              "      <td>Gujarat</td>\n",
              "      <td>Anand_VUNagar_DC</td>\n",
              "      <td>Khambhat_MotvdDPP_D</td>\n",
              "      <td>DC</td>\n",
              "      <td>D</td>\n",
              "    </tr>\n",
              "    <tr>\n",
              "      <th>4</th>\n",
              "      <td>training</td>\n",
              "      <td>2018-09-20 02:35:36.476840</td>\n",
              "      <td>thanos::sroute:eb7bfc78-b351-4c0e-a951-fa3d5c3...</td>\n",
              "      <td>Carting</td>\n",
              "      <td>trip-153741093647649320</td>\n",
              "      <td>IND388121AAA</td>\n",
              "      <td>Anand_VUNagar_DC (Gujarat)</td>\n",
              "      <td>IND388620AAB</td>\n",
              "      <td>Khambhat_MotvdDPP_D (Gujarat)</td>\n",
              "      <td>2018-09-20 03:21:32.418600</td>\n",
              "      <td>...</td>\n",
              "      <td>6.0</td>\n",
              "      <td>5.0</td>\n",
              "      <td>3.9153</td>\n",
              "      <td>1.200000</td>\n",
              "      <td>Gujarat</td>\n",
              "      <td>Gujarat</td>\n",
              "      <td>Anand_VUNagar_DC</td>\n",
              "      <td>Khambhat_MotvdDPP_D</td>\n",
              "      <td>DC</td>\n",
              "      <td>D</td>\n",
              "    </tr>\n",
              "  </tbody>\n",
              "</table>\n",
              "<p>5 rows × 30 columns</p>\n",
              "</div>"
            ],
            "text/plain": [
              "       data         trip_creation_time  \\\n",
              "0  training 2018-09-20 02:35:36.476840   \n",
              "1  training 2018-09-20 02:35:36.476840   \n",
              "2  training 2018-09-20 02:35:36.476840   \n",
              "3  training 2018-09-20 02:35:36.476840   \n",
              "4  training 2018-09-20 02:35:36.476840   \n",
              "\n",
              "                                 route_schedule_uuid route_type  \\\n",
              "0  thanos::sroute:eb7bfc78-b351-4c0e-a951-fa3d5c3...    Carting   \n",
              "1  thanos::sroute:eb7bfc78-b351-4c0e-a951-fa3d5c3...    Carting   \n",
              "2  thanos::sroute:eb7bfc78-b351-4c0e-a951-fa3d5c3...    Carting   \n",
              "3  thanos::sroute:eb7bfc78-b351-4c0e-a951-fa3d5c3...    Carting   \n",
              "4  thanos::sroute:eb7bfc78-b351-4c0e-a951-fa3d5c3...    Carting   \n",
              "\n",
              "                 trip_uuid source_center                 source_name  \\\n",
              "0  trip-153741093647649320  IND388121AAA  Anand_VUNagar_DC (Gujarat)   \n",
              "1  trip-153741093647649320  IND388121AAA  Anand_VUNagar_DC (Gujarat)   \n",
              "2  trip-153741093647649320  IND388121AAA  Anand_VUNagar_DC (Gujarat)   \n",
              "3  trip-153741093647649320  IND388121AAA  Anand_VUNagar_DC (Gujarat)   \n",
              "4  trip-153741093647649320  IND388121AAA  Anand_VUNagar_DC (Gujarat)   \n",
              "\n",
              "  destination_center               destination_name  \\\n",
              "0       IND388620AAB  Khambhat_MotvdDPP_D (Gujarat)   \n",
              "1       IND388620AAB  Khambhat_MotvdDPP_D (Gujarat)   \n",
              "2       IND388620AAB  Khambhat_MotvdDPP_D (Gujarat)   \n",
              "3       IND388620AAB  Khambhat_MotvdDPP_D (Gujarat)   \n",
              "4       IND388620AAB  Khambhat_MotvdDPP_D (Gujarat)   \n",
              "\n",
              "               od_start_time  ... segment_actual_time  segment_osrm_time  \\\n",
              "0 2018-09-20 03:21:32.418600  ...                14.0               11.0   \n",
              "1 2018-09-20 03:21:32.418600  ...                10.0                9.0   \n",
              "2 2018-09-20 03:21:32.418600  ...                16.0                7.0   \n",
              "3 2018-09-20 03:21:32.418600  ...                21.0               12.0   \n",
              "4 2018-09-20 03:21:32.418600  ...                 6.0                5.0   \n",
              "\n",
              "   segment_osrm_distance  segment_factor source_state  destination_state  \\\n",
              "0                11.9653        1.272727      Gujarat            Gujarat   \n",
              "1                 9.7590        1.111111      Gujarat            Gujarat   \n",
              "2                10.8152        2.285714      Gujarat            Gujarat   \n",
              "3                13.0224        1.750000      Gujarat            Gujarat   \n",
              "4                 3.9153        1.200000      Gujarat            Gujarat   \n",
              "\n",
              "        source_city     destination_city  source_place  destination_place  \n",
              "0  Anand_VUNagar_DC  Khambhat_MotvdDPP_D            DC                  D  \n",
              "1  Anand_VUNagar_DC  Khambhat_MotvdDPP_D            DC                  D  \n",
              "2  Anand_VUNagar_DC  Khambhat_MotvdDPP_D            DC                  D  \n",
              "3  Anand_VUNagar_DC  Khambhat_MotvdDPP_D            DC                  D  \n",
              "4  Anand_VUNagar_DC  Khambhat_MotvdDPP_D            DC                  D  \n",
              "\n",
              "[5 rows x 30 columns]"
            ]
          },
          "execution_count": 635,
          "metadata": {},
          "output_type": "execute_result"
        }
      ],
      "source": [
        "df.head(5)"
      ]
    },
    {
      "cell_type": "markdown",
      "id": "b95bf4e3",
      "metadata": {
        "id": "b95bf4e3"
      },
      "source": [
        "### Feature Engineering - Create cumulative sums"
      ]
    },
    {
      "cell_type": "code",
      "execution_count": null,
      "id": "19f81a7f",
      "metadata": {
        "id": "19f81a7f"
      },
      "outputs": [],
      "source": [
        "for col in segment_cols:\n",
        "    df[col+\"_sum\"] = df.groupby(by=segment_group_by)[col].cumsum()"
      ]
    },
    {
      "cell_type": "code",
      "execution_count": null,
      "id": "ca43db95",
      "metadata": {
        "id": "ca43db95",
        "outputId": "4471747c-0c70-4420-dbc2-13e368399973"
      },
      "outputs": [
        {
          "data": {
            "text/plain": [
              "['segment_actual_time',\n",
              " 'segment_osrm_time',\n",
              " 'segment_osrm_distance',\n",
              " 'segment_factor',\n",
              " 'segment_actual_time_sum']"
            ]
          },
          "execution_count": 388,
          "metadata": {},
          "output_type": "execute_result"
        }
      ],
      "source": [
        "segment_cols"
      ]
    },
    {
      "cell_type": "markdown",
      "id": "bac629f7",
      "metadata": {
        "id": "bac629f7"
      },
      "source": [
        "Creating segment wise grouping"
      ]
    },
    {
      "cell_type": "code",
      "execution_count": null,
      "id": "c3f72ba3",
      "metadata": {
        "id": "c3f72ba3"
      },
      "outputs": [],
      "source": [
        "create_segment_dict = {\n",
        "    \n",
        "    'data' : 'first',\n",
        "    'trip_creation_time' : 'first',\n",
        "    'route_schedule_uuid' : 'first',\n",
        "    'route_type' : 'first',\n",
        "    'source_state' : 'first',\n",
        "    'destination_state' : 'last',\n",
        "    \n",
        "    'source_city' : 'first',\n",
        "    'destination_city' : 'last',\n",
        "    \n",
        "    'source_place' : 'first',\n",
        "    'destination_place' : 'last',\n",
        "    \n",
        "    'od_start_time' : 'first',\n",
        "    'od_end_time' : 'first',\n",
        "    'start_scan_to_end_scan' : 'first',\n",
        "    \n",
        "    'actual_distance_to_destination' : 'last',\n",
        "    'actual_time' : 'max',\n",
        "    'segment_actual_time_sum': 'max',\n",
        "    'segment_osrm_time_sum': 'max',\n",
        "    'segment_osrm_distance_sum': 'max',\n",
        "    \n",
        "    'osrm_time' : 'last',\n",
        "    'osrm_distance' : 'last',\n",
        "    'start_scan_to_end_scan': 'max'\n",
        "    \n",
        "}"
      ]
    },
    {
      "cell_type": "code",
      "execution_count": null,
      "id": "5c78746b",
      "metadata": {
        "id": "5c78746b"
      },
      "outputs": [],
      "source": [
        "segment = df.groupby(by=segment_group_by).agg(create_segment_dict).reset_index()"
      ]
    },
    {
      "cell_type": "markdown",
      "id": "efac7d3f",
      "metadata": {
        "id": "efac7d3f"
      },
      "source": [
        "## Feature: od_time_diff_hour"
      ]
    },
    {
      "cell_type": "code",
      "execution_count": null,
      "id": "30dd0dce",
      "metadata": {
        "id": "30dd0dce"
      },
      "outputs": [],
      "source": [
        "segment['od_time_diff_hour'] = np.round((segment['od_end_time'] - segment['od_start_time']).dt.seconds/60,0)"
      ]
    },
    {
      "cell_type": "code",
      "execution_count": null,
      "id": "cad62b09",
      "metadata": {
        "id": "cad62b09",
        "outputId": "f9301751-0a43-47be-9a72-72c2745c7a0e"
      },
      "outputs": [
        {
          "data": {
            "text/plain": [
              "(298.5533902829685, 245.11726794294867)"
            ]
          },
          "execution_count": 709,
          "metadata": {},
          "output_type": "execute_result"
        }
      ],
      "source": [
        "segment['start_scan_to_end_scan'].mean(), segment['od_time_diff_hour'].mean()"
      ]
    },
    {
      "cell_type": "code",
      "execution_count": null,
      "id": "6397d6f2",
      "metadata": {
        "id": "6397d6f2"
      },
      "outputs": [],
      "source": [
        "segment.drop(['od_end_time', 'od_start_time'], axis=1, inplace=True)"
      ]
    },
    {
      "cell_type": "markdown",
      "id": "4a68682f",
      "metadata": {
        "id": "4a68682f"
      },
      "source": [
        "#### Hypothesis Testing: `start_scan_to_end_scan` vs `od_time_diff_hour` - t-test-2-samples"
      ]
    },
    {
      "cell_type": "markdown",
      "id": "d9441681",
      "metadata": {
        "id": "d9441681"
      },
      "source": [
        "- H0 ( Null Hypothesis ) is that mean of `start_scan_to_end_scan` and mean of `od_time_diff_hour` are equal\n",
        "- HA ( Alternate Hypothesis) is that means are different"
      ]
    },
    {
      "cell_type": "code",
      "execution_count": null,
      "id": "3945fec6",
      "metadata": {
        "id": "3945fec6",
        "outputId": "aa86e8ce-b3cd-43a6-9e69-c2a66f0ca0fa"
      },
      "outputs": [
        {
          "name": "stdout",
          "output_type": "stream",
          "text": [
            "Null Hypothesis can be rejected.There is significant different between start_scan_to_end_scan and time_diff_hour\n"
          ]
        }
      ],
      "source": [
        "p=stats.ttest_ind(segment['od_time_diff_hour'],segment['start_scan_to_end_scan'])[1]\n",
        "if p<0.05:\n",
        "    print('Null Hypothesis can be rejected.There is significant different between start_scan_to_end_scan and time_diff_hour')\n",
        "else:\n",
        "    print('Null Hypothesis cannot be rejected')"
      ]
    },
    {
      "cell_type": "code",
      "execution_count": null,
      "id": "d321c972",
      "metadata": {
        "id": "d321c972",
        "outputId": "25ff4e2c-0bc6-479c-deb8-80ebcfe99be8"
      },
      "outputs": [
        {
          "data": {
            "text/plain": [
              "Text(0.5, 1.0, 'time_diff_hour')"
            ]
          },
          "execution_count": 712,
          "metadata": {},
          "output_type": "execute_result"
        },
        {
          "data": {
            "image/png": "[encoded data removed]",
            "text/plain": [
              "<Figure size 1000x500 with 2 Axes>"
            ]
          },
          "metadata": {},
          "output_type": "display_data"
        }
      ],
      "source": [
        "plt.figure(figsize=(10,5))\n",
        "plt.subplot(1, 2, 1)\n",
        "sns.boxplot(segment['od_time_diff_hour'])\n",
        "plt.title('Calculated segment od_time_diff_hour')\n",
        "plt.subplot(1, 2, 2)\n",
        "sns.boxplot(segment['start_scan_to_end_scan'])\n",
        "plt.title('time_diff_hour')\n",
        "\n"
      ]
    },
    {
      "cell_type": "code",
      "execution_count": null,
      "id": "091a5a20",
      "metadata": {
        "id": "091a5a20",
        "outputId": "1ae1e160-c905-4516-a43b-623574bdaf2b"
      },
      "outputs": [
        {
          "data": {
            "text/html": [
              "<div>\n",
              "<style scoped>\n",
              "    .dataframe tbody tr th:only-of-type {\n",
              "        vertical-align: middle;\n",
              "    }\n",
              "\n",
              "    .dataframe tbody tr th {\n",
              "        vertical-align: top;\n",
              "    }\n",
              "\n",
              "    .dataframe thead th {\n",
              "        text-align: right;\n",
              "    }\n",
              "</style>\n",
              "<table border=\"1\" class=\"dataframe\">\n",
              "  <thead>\n",
              "    <tr style=\"text-align: right;\">\n",
              "      <th></th>\n",
              "      <th>trip_uuid</th>\n",
              "      <th>source_center</th>\n",
              "      <th>destination_center</th>\n",
              "      <th>data</th>\n",
              "      <th>trip_creation_time</th>\n",
              "      <th>route_schedule_uuid</th>\n",
              "      <th>route_type</th>\n",
              "      <th>source_state</th>\n",
              "      <th>destination_state</th>\n",
              "      <th>source_city</th>\n",
              "      <th>...</th>\n",
              "      <th>od_end_time</th>\n",
              "      <th>start_scan_to_end_scan</th>\n",
              "      <th>actual_distance_to_destination</th>\n",
              "      <th>actual_time</th>\n",
              "      <th>segment_actual_time_sum</th>\n",
              "      <th>segment_osrm_time_sum</th>\n",
              "      <th>segment_osrm_distance_sum</th>\n",
              "      <th>osrm_time</th>\n",
              "      <th>osrm_distance</th>\n",
              "      <th>od_time_diff_hour</th>\n",
              "    </tr>\n",
              "  </thead>\n",
              "  <tbody>\n",
              "    <tr>\n",
              "      <th>0</th>\n",
              "      <td>trip-153671041653548748</td>\n",
              "      <td>IND209304AAA</td>\n",
              "      <td>IND000000ACB</td>\n",
              "      <td>training</td>\n",
              "      <td>2018-09-12 00:00:16.535741</td>\n",
              "      <td>thanos::sroute:d7c989ba-a29b-4a0b-b2f4-288cdc6...</td>\n",
              "      <td>FTL</td>\n",
              "      <td>Uttar Pradesh</td>\n",
              "      <td>Haryana</td>\n",
              "      <td>Kanpur_Central_H_6</td>\n",
              "      <td>...</td>\n",
              "      <td>2018-09-13 13:40:23.123744</td>\n",
              "      <td>1260.0</td>\n",
              "      <td>383.759164</td>\n",
              "      <td>732.0</td>\n",
              "      <td>728.0</td>\n",
              "      <td>534.0</td>\n",
              "      <td>670.6205</td>\n",
              "      <td>329.0</td>\n",
              "      <td>446.5496</td>\n",
              "      <td>1261.0</td>\n",
              "    </tr>\n",
              "    <tr>\n",
              "      <th>1</th>\n",
              "      <td>trip-153671041653548748</td>\n",
              "      <td>IND462022AAA</td>\n",
              "      <td>IND209304AAA</td>\n",
              "      <td>training</td>\n",
              "      <td>2018-09-12 00:00:16.535741</td>\n",
              "      <td>thanos::sroute:d7c989ba-a29b-4a0b-b2f4-288cdc6...</td>\n",
              "      <td>FTL</td>\n",
              "      <td>Madhya Pradesh</td>\n",
              "      <td>Uttar Pradesh</td>\n",
              "      <td>Bhopal_Trnsport_H</td>\n",
              "      <td>...</td>\n",
              "      <td>2018-09-12 16:39:46.858469</td>\n",
              "      <td>999.0</td>\n",
              "      <td>440.973689</td>\n",
              "      <td>830.0</td>\n",
              "      <td>820.0</td>\n",
              "      <td>474.0</td>\n",
              "      <td>649.8528</td>\n",
              "      <td>388.0</td>\n",
              "      <td>544.8027</td>\n",
              "      <td>1000.0</td>\n",
              "    </tr>\n",
              "    <tr>\n",
              "      <th>2</th>\n",
              "      <td>trip-153671042288605164</td>\n",
              "      <td>IND561203AAB</td>\n",
              "      <td>IND562101AAA</td>\n",
              "      <td>training</td>\n",
              "      <td>2018-09-12 00:00:22.886430</td>\n",
              "      <td>thanos::sroute:3a1b0ab2-bb0b-4c53-8c59-eb2a2c0...</td>\n",
              "      <td>Carting</td>\n",
              "      <td>Karnataka</td>\n",
              "      <td>Karnataka</td>\n",
              "      <td>Doddablpur_ChikaDPP_D</td>\n",
              "      <td>...</td>\n",
              "      <td>2018-09-12 03:01:59.598855</td>\n",
              "      <td>58.0</td>\n",
              "      <td>24.644021</td>\n",
              "      <td>47.0</td>\n",
              "      <td>46.0</td>\n",
              "      <td>26.0</td>\n",
              "      <td>28.1995</td>\n",
              "      <td>26.0</td>\n",
              "      <td>28.1994</td>\n",
              "      <td>59.0</td>\n",
              "    </tr>\n",
              "  </tbody>\n",
              "</table>\n",
              "<p>3 rows × 24 columns</p>\n",
              "</div>"
            ],
            "text/plain": [
              "                 trip_uuid source_center destination_center      data  \\\n",
              "0  trip-153671041653548748  IND209304AAA       IND000000ACB  training   \n",
              "1  trip-153671041653548748  IND462022AAA       IND209304AAA  training   \n",
              "2  trip-153671042288605164  IND561203AAB       IND562101AAA  training   \n",
              "\n",
              "          trip_creation_time  \\\n",
              "0 2018-09-12 00:00:16.535741   \n",
              "1 2018-09-12 00:00:16.535741   \n",
              "2 2018-09-12 00:00:22.886430   \n",
              "\n",
              "                                 route_schedule_uuid route_type  \\\n",
              "0  thanos::sroute:d7c989ba-a29b-4a0b-b2f4-288cdc6...        FTL   \n",
              "1  thanos::sroute:d7c989ba-a29b-4a0b-b2f4-288cdc6...        FTL   \n",
              "2  thanos::sroute:3a1b0ab2-bb0b-4c53-8c59-eb2a2c0...    Carting   \n",
              "\n",
              "     source_state destination_state             source_city  ...  \\\n",
              "0   Uttar Pradesh           Haryana     Kanpur_Central_H_6   ...   \n",
              "1  Madhya Pradesh     Uttar Pradesh      Bhopal_Trnsport_H   ...   \n",
              "2       Karnataka         Karnataka  Doddablpur_ChikaDPP_D   ...   \n",
              "\n",
              "                 od_end_time start_scan_to_end_scan  \\\n",
              "0 2018-09-13 13:40:23.123744                 1260.0   \n",
              "1 2018-09-12 16:39:46.858469                  999.0   \n",
              "2 2018-09-12 03:01:59.598855                   58.0   \n",
              "\n",
              "  actual_distance_to_destination actual_time segment_actual_time_sum  \\\n",
              "0                     383.759164       732.0                   728.0   \n",
              "1                     440.973689       830.0                   820.0   \n",
              "2                      24.644021        47.0                    46.0   \n",
              "\n",
              "   segment_osrm_time_sum  segment_osrm_distance_sum  osrm_time  osrm_distance  \\\n",
              "0                  534.0                   670.6205      329.0       446.5496   \n",
              "1                  474.0                   649.8528      388.0       544.8027   \n",
              "2                   26.0                    28.1995       26.0        28.1994   \n",
              "\n",
              "   od_time_diff_hour  \n",
              "0             1261.0  \n",
              "1             1000.0  \n",
              "2               59.0  \n",
              "\n",
              "[3 rows x 24 columns]"
            ]
          },
          "execution_count": 602,
          "metadata": {},
          "output_type": "execute_result"
        }
      ],
      "source": [
        "segment.head(3)"
      ]
    },
    {
      "cell_type": "code",
      "execution_count": null,
      "id": "370572cd",
      "metadata": {
        "id": "370572cd"
      },
      "outputs": [],
      "source": [
        "cols = [col for col in df.columns if 'time' in col or 'osrm' in col or 'segment' in col]"
      ]
    },
    {
      "cell_type": "code",
      "execution_count": null,
      "id": "80891e19",
      "metadata": {
        "id": "80891e19"
      },
      "outputs": [],
      "source": [
        "create_trip_dict = {\n",
        "    \n",
        "    'data' : 'first',\n",
        "    'trip_creation_time' : 'first',\n",
        "    'route_schedule_uuid' : 'first',\n",
        "    'route_type' : 'first',\n",
        "    'source_state' : 'first',\n",
        "    \n",
        "    'destination_state' : 'last',\n",
        "    \n",
        "    'source_city' : 'first',\n",
        "    \n",
        "    'destination_city' : 'last',\n",
        "    \n",
        "    'source_place' : 'first',\n",
        "    \n",
        "    'destination_place' : 'last',\n",
        "\n",
        "    'start_scan_to_end_scan' : 'sum',\n",
        "    \n",
        "    'actual_distance_to_destination' : 'sum',\n",
        "    'actual_time' : 'sum',\n",
        "    'segment_actual_time_sum': 'sum',\n",
        "    'segment_osrm_time_sum': 'sum',\n",
        "    'segment_osrm_distance_sum': 'sum',\n",
        "    \n",
        "    'osrm_time' : 'sum',\n",
        "    'osrm_distance' : 'sum',\n",
        "    \n",
        "}"
      ]
    },
    {
      "cell_type": "code",
      "execution_count": null,
      "id": "49cd8692",
      "metadata": {
        "id": "49cd8692"
      },
      "outputs": [],
      "source": [
        "trip = segment.groupby(by=['trip_uuid']).agg(create_trip_dict).reset_index()"
      ]
    },
    {
      "cell_type": "code",
      "execution_count": null,
      "id": "4b338c37",
      "metadata": {
        "id": "4b338c37",
        "outputId": "0d5ac56f-4338-49e6-b69a-10759c105943"
      },
      "outputs": [
        {
          "data": {
            "text/html": [
              "<div>\n",
              "<style scoped>\n",
              "    .dataframe tbody tr th:only-of-type {\n",
              "        vertical-align: middle;\n",
              "    }\n",
              "\n",
              "    .dataframe tbody tr th {\n",
              "        vertical-align: top;\n",
              "    }\n",
              "\n",
              "    .dataframe thead th {\n",
              "        text-align: right;\n",
              "    }\n",
              "</style>\n",
              "<table border=\"1\" class=\"dataframe\">\n",
              "  <thead>\n",
              "    <tr style=\"text-align: right;\">\n",
              "      <th></th>\n",
              "      <th>trip_uuid</th>\n",
              "      <th>data</th>\n",
              "      <th>trip_creation_time</th>\n",
              "      <th>route_schedule_uuid</th>\n",
              "      <th>route_type</th>\n",
              "      <th>source_state</th>\n",
              "      <th>destination_state</th>\n",
              "      <th>source_city</th>\n",
              "      <th>destination_city</th>\n",
              "      <th>source_place</th>\n",
              "      <th>destination_place</th>\n",
              "      <th>start_scan_to_end_scan</th>\n",
              "      <th>actual_distance_to_destination</th>\n",
              "      <th>actual_time</th>\n",
              "      <th>segment_actual_time_sum</th>\n",
              "      <th>segment_osrm_time_sum</th>\n",
              "      <th>segment_osrm_distance_sum</th>\n",
              "      <th>osrm_time</th>\n",
              "      <th>osrm_distance</th>\n",
              "    </tr>\n",
              "  </thead>\n",
              "  <tbody>\n",
              "    <tr>\n",
              "      <th>0</th>\n",
              "      <td>trip-153671041653548748</td>\n",
              "      <td>training</td>\n",
              "      <td>2018-09-12 00:00:16.535741</td>\n",
              "      <td>thanos::sroute:d7c989ba-a29b-4a0b-b2f4-288cdc6...</td>\n",
              "      <td>FTL</td>\n",
              "      <td>Uttar Pradesh</td>\n",
              "      <td>Uttar Pradesh</td>\n",
              "      <td>Kanpur</td>\n",
              "      <td>Kanpur</td>\n",
              "      <td>H</td>\n",
              "      <td>HB</td>\n",
              "      <td>2259.0</td>\n",
              "      <td>824.732854</td>\n",
              "      <td>1562.0</td>\n",
              "      <td>1548.0</td>\n",
              "      <td>1008.0</td>\n",
              "      <td>1320.4733</td>\n",
              "      <td>717.0</td>\n",
              "      <td>991.3523</td>\n",
              "    </tr>\n",
              "    <tr>\n",
              "      <th>1</th>\n",
              "      <td>trip-153671042288605164</td>\n",
              "      <td>training</td>\n",
              "      <td>2018-09-12 00:00:22.886430</td>\n",
              "      <td>thanos::sroute:3a1b0ab2-bb0b-4c53-8c59-eb2a2c0...</td>\n",
              "      <td>Carting</td>\n",
              "      <td>Karnataka</td>\n",
              "      <td>Karnataka</td>\n",
              "      <td>Doddablpur</td>\n",
              "      <td>Doddablpur</td>\n",
              "      <td>D</td>\n",
              "      <td>D</td>\n",
              "      <td>180.0</td>\n",
              "      <td>73.186911</td>\n",
              "      <td>143.0</td>\n",
              "      <td>141.0</td>\n",
              "      <td>65.0</td>\n",
              "      <td>84.1894</td>\n",
              "      <td>68.0</td>\n",
              "      <td>85.1110</td>\n",
              "    </tr>\n",
              "    <tr>\n",
              "      <th>2</th>\n",
              "      <td>trip-153671043369099517</td>\n",
              "      <td>training</td>\n",
              "      <td>2018-09-12 00:00:33.691250</td>\n",
              "      <td>thanos::sroute:de5e208e-7641-45e6-8100-4d9fb1e...</td>\n",
              "      <td>FTL</td>\n",
              "      <td>Haryana</td>\n",
              "      <td>Haryana</td>\n",
              "      <td>Gurgaon</td>\n",
              "      <td>Gurgaon</td>\n",
              "      <td>HB</td>\n",
              "      <td>HB</td>\n",
              "      <td>3933.0</td>\n",
              "      <td>1927.404273</td>\n",
              "      <td>3347.0</td>\n",
              "      <td>3308.0</td>\n",
              "      <td>1941.0</td>\n",
              "      <td>2545.2678</td>\n",
              "      <td>1740.0</td>\n",
              "      <td>2354.0665</td>\n",
              "    </tr>\n",
              "    <tr>\n",
              "      <th>3</th>\n",
              "      <td>trip-153671046011330457</td>\n",
              "      <td>training</td>\n",
              "      <td>2018-09-12 00:01:00.113710</td>\n",
              "      <td>thanos::sroute:f0176492-a679-4597-8332-bbd1c7f...</td>\n",
              "      <td>Carting</td>\n",
              "      <td>Maharashtra</td>\n",
              "      <td>Maharashtra</td>\n",
              "      <td>Mumbai Hub</td>\n",
              "      <td>Mumbai</td>\n",
              "      <td>None</td>\n",
              "      <td>IP</td>\n",
              "      <td>100.0</td>\n",
              "      <td>17.175274</td>\n",
              "      <td>59.0</td>\n",
              "      <td>59.0</td>\n",
              "      <td>16.0</td>\n",
              "      <td>19.8766</td>\n",
              "      <td>15.0</td>\n",
              "      <td>19.6800</td>\n",
              "    </tr>\n",
              "  </tbody>\n",
              "</table>\n",
              "</div>"
            ],
            "text/plain": [
              "                 trip_uuid      data         trip_creation_time  \\\n",
              "0  trip-153671041653548748  training 2018-09-12 00:00:16.535741   \n",
              "1  trip-153671042288605164  training 2018-09-12 00:00:22.886430   \n",
              "2  trip-153671043369099517  training 2018-09-12 00:00:33.691250   \n",
              "3  trip-153671046011330457  training 2018-09-12 00:01:00.113710   \n",
              "\n",
              "                                 route_schedule_uuid route_type  \\\n",
              "0  thanos::sroute:d7c989ba-a29b-4a0b-b2f4-288cdc6...        FTL   \n",
              "1  thanos::sroute:3a1b0ab2-bb0b-4c53-8c59-eb2a2c0...    Carting   \n",
              "2  thanos::sroute:de5e208e-7641-45e6-8100-4d9fb1e...        FTL   \n",
              "3  thanos::sroute:f0176492-a679-4597-8332-bbd1c7f...    Carting   \n",
              "\n",
              "    source_state destination_state source_city destination_city source_place  \\\n",
              "0  Uttar Pradesh     Uttar Pradesh      Kanpur           Kanpur            H   \n",
              "1      Karnataka         Karnataka  Doddablpur       Doddablpur            D   \n",
              "2        Haryana           Haryana     Gurgaon          Gurgaon           HB   \n",
              "3    Maharashtra       Maharashtra  Mumbai Hub           Mumbai         None   \n",
              "\n",
              "  destination_place  start_scan_to_end_scan  actual_distance_to_destination  \\\n",
              "0                HB                  2259.0                      824.732854   \n",
              "1                 D                   180.0                       73.186911   \n",
              "2                HB                  3933.0                     1927.404273   \n",
              "3                IP                   100.0                       17.175274   \n",
              "\n",
              "   actual_time  segment_actual_time_sum  segment_osrm_time_sum  \\\n",
              "0       1562.0                   1548.0                 1008.0   \n",
              "1        143.0                    141.0                   65.0   \n",
              "2       3347.0                   3308.0                 1941.0   \n",
              "3         59.0                     59.0                   16.0   \n",
              "\n",
              "   segment_osrm_distance_sum  osrm_time  osrm_distance  \n",
              "0                  1320.4733      717.0       991.3523  \n",
              "1                    84.1894       68.0        85.1110  \n",
              "2                  2545.2678     1740.0      2354.0665  \n",
              "3                    19.8766       15.0        19.6800  "
            ]
          },
          "execution_count": 716,
          "metadata": {},
          "output_type": "execute_result"
        }
      ],
      "source": [
        "trip.head(4)"
      ]
    },
    {
      "cell_type": "code",
      "execution_count": null,
      "id": "4cf9cfeb",
      "metadata": {
        "id": "4cf9cfeb",
        "outputId": "272c6ff3-bac2-457e-c68e-020134a2c2fb"
      },
      "outputs": [
        {
          "data": {
            "image/png": "[encoded data removed]",
            "text/plain": [
              "<Figure size 1000x500 with 2 Axes>"
            ]
          },
          "metadata": {},
          "output_type": "display_data"
        }
      ],
      "source": [
        "plot_box_plot(data=trip, col1='actual_time', col2='osrm_time')"
      ]
    },
    {
      "cell_type": "code",
      "execution_count": null,
      "id": "6c1155b1",
      "metadata": {
        "id": "6c1155b1"
      },
      "outputs": [],
      "source": [
        "def plot_box_plot(data, col1, col2):\n",
        "    plt.figure(figsize=(10,5))\n",
        "    plt.subplot(1, 2, 1)\n",
        "    sns.boxplot(data[col1])\n",
        "#     plt.title('Calculated segment od_time_diff_hour')\n",
        "    plt.subplot(1, 2, 2)\n",
        "    sns.boxplot(data[col2])\n",
        "#     plt.title('time_diff_hour')\n"
      ]
    },
    {
      "cell_type": "markdown",
      "id": "97508e5d",
      "metadata": {
        "id": "97508e5d"
      },
      "source": [
        " #### Hypothesis Testing: `actual_time` vs `osrm_time` - t-test 2 samples"
      ]
    },
    {
      "cell_type": "markdown",
      "id": "adf12916",
      "metadata": {
        "id": "adf12916"
      },
      "source": [
        "- H0 ( Null Hypothesis ) is that mean of `actual_time` and mean of `osrm_time` are equal\n",
        "- HA ( Alternate Hypothesis ) is that means are different"
      ]
    },
    {
      "cell_type": "code",
      "execution_count": null,
      "id": "b1bc3bdc",
      "metadata": {
        "id": "b1bc3bdc",
        "outputId": "63f3c961-5c36-4389-f858-28e2edf91739"
      },
      "outputs": [
        {
          "data": {
            "text/plain": [
              "Ttest_indResult(statistic=38.08071567723596, pvalue=8.2146191343466e-310)"
            ]
          },
          "execution_count": 420,
          "metadata": {},
          "output_type": "execute_result"
        }
      ],
      "source": [
        "stats.ttest_ind(trip['actual_time'], trip['osrm_time'])"
      ]
    },
    {
      "cell_type": "markdown",
      "id": "a4c7174d",
      "metadata": {
        "id": "a4c7174d"
      },
      "source": [
        "There is a significant different in the `osrm_time` and `actual_time` or a trip"
      ]
    },
    {
      "cell_type": "code",
      "execution_count": null,
      "id": "a6d8d87e",
      "metadata": {
        "id": "a6d8d87e",
        "outputId": "7eaf6f04-cb5d-47ac-ab47-1b1c90f91811"
      },
      "outputs": [
        {
          "data": {
            "image/png": "[encoded data removed]",
            "text/plain": [
              "<Figure size 1000x500 with 2 Axes>"
            ]
          },
          "metadata": {},
          "output_type": "display_data"
        }
      ],
      "source": [
        "plot_box_plot(data=trip, col1='actual_time', col2='segment_actual_time_sum')"
      ]
    },
    {
      "cell_type": "markdown",
      "id": "e505b8b1",
      "metadata": {
        "id": "e505b8b1"
      },
      "source": [
        " #### Hypothesis Testing: `actual_time` vs `segment_actual_time_sum` - t-test 2 samples"
      ]
    },
    {
      "cell_type": "markdown",
      "id": "2e704b49",
      "metadata": {
        "id": "2e704b49"
      },
      "source": [
        "- H0 ( Null Hypothesis ) is that mean of `actual_time` and `segment_actual_time_sum` are same\n",
        "- HA (Alternate Hypothesis) is that the means are different"
      ]
    },
    {
      "cell_type": "code",
      "execution_count": null,
      "id": "908c2d9e",
      "metadata": {
        "id": "908c2d9e",
        "outputId": "64297f59-434e-43b5-8132-a94a22cfb96e"
      },
      "outputs": [
        {
          "data": {
            "text/plain": [
              "Ttest_indResult(statistic=0.4994549431541971, pvalue=0.6174626367102172)"
            ]
          },
          "execution_count": 423,
          "metadata": {},
          "output_type": "execute_result"
        }
      ],
      "source": [
        "stats.ttest_ind(trip['actual_time'], trip['segment_actual_time_sum'])"
      ]
    },
    {
      "cell_type": "markdown",
      "id": "c532a01a",
      "metadata": {
        "id": "c532a01a"
      },
      "source": [
        "Since p-value is large, null hypothesis cannot be rejected. Hence, there is no significant different between `actual_time` and `segment_actual_time_sum`"
      ]
    },
    {
      "cell_type": "code",
      "execution_count": null,
      "id": "ce4d69e1",
      "metadata": {
        "id": "ce4d69e1",
        "outputId": "635ed034-ce4b-4090-f040-db4fd4ed0ffa"
      },
      "outputs": [
        {
          "data": {
            "text/plain": [
              "(353.05930885237035, 356.30601203760057)"
            ]
          },
          "execution_count": 425,
          "metadata": {},
          "output_type": "execute_result"
        }
      ],
      "source": [
        "trip['segment_actual_time_sum'].mean(), trip['actual_time'].mean()"
      ]
    },
    {
      "cell_type": "code",
      "execution_count": null,
      "id": "207ea941",
      "metadata": {
        "id": "207ea941",
        "outputId": "3840739f-ab97-4d06-90ac-b3476614fd21"
      },
      "outputs": [
        {
          "data": {
            "image/png": "[encoded data removed]",
            "text/plain": [
              "<Figure size 1000x500 with 2 Axes>"
            ]
          },
          "metadata": {},
          "output_type": "display_data"
        }
      ],
      "source": [
        "plot_box_plot(data=trip, col1='actual_distance_to_destination', col2='segment_osrm_distance_sum')"
      ]
    },
    {
      "cell_type": "code",
      "execution_count": null,
      "id": "79b84bc7",
      "metadata": {
        "id": "79b84bc7",
        "outputId": "b8b75d99-368b-40c1-b8b1-0ef6abfd1048"
      },
      "outputs": [
        {
          "data": {
            "text/plain": [
              "(164.0901961720598, 222.7054664434977)"
            ]
          },
          "execution_count": 436,
          "metadata": {},
          "output_type": "execute_result"
        }
      ],
      "source": [
        "trip['actual_distance_to_destination'].mean(), trip['segment_osrm_distance_sum'].mean()"
      ]
    },
    {
      "cell_type": "markdown",
      "id": "a40cb0a1",
      "metadata": {
        "id": "a40cb0a1"
      },
      "source": [
        " #### Hypothesis Testing: `actual_distance_to_destination` vs `segment_osrm_distance_sum` - t-test 2 samples"
      ]
    },
    {
      "cell_type": "markdown",
      "id": "bc8ec791",
      "metadata": {
        "id": "bc8ec791"
      },
      "source": [
        "- H0 ( Null Hypothesis ) is that mean of `actual_distance_to_destination` and `segment_osrm_distance_sum` are same\n",
        "- HA (Alternate Hypothesis) is that the means are different"
      ]
    },
    {
      "cell_type": "code",
      "execution_count": null,
      "id": "09d62c68",
      "metadata": {
        "id": "09d62c68",
        "outputId": "5bd10e28-b852-485c-89f2-5a13c4a3e5c7"
      },
      "outputs": [
        {
          "data": {
            "text/plain": [
              "Ttest_indResult(statistic=-13.791758457154543, pvalue=3.886732915808316e-43)"
            ]
          },
          "execution_count": 437,
          "metadata": {},
          "output_type": "execute_result"
        }
      ],
      "source": [
        "stats.ttest_ind(trip['actual_distance_to_destination'], trip['segment_osrm_distance_sum'])"
      ]
    },
    {
      "cell_type": "markdown",
      "id": "603b8957",
      "metadata": {
        "id": "603b8957"
      },
      "source": [
        "There is a significant difference between `actual_distance_to_destination` and `segment_osrm_distance_sum`"
      ]
    },
    {
      "cell_type": "code",
      "execution_count": null,
      "id": "0a6f09b9",
      "metadata": {
        "id": "0a6f09b9",
        "outputId": "86ca0828-fb1d-4c19-b949-24482a39e47d"
      },
      "outputs": [
        {
          "data": {
            "text/plain": [
              "(160.99093798606884, 180.5115980252925)"
            ]
          },
          "execution_count": 439,
          "metadata": {},
          "output_type": "execute_result"
        }
      ],
      "source": [
        "trip['osrm_time'].mean(), trip['segment_osrm_time_sum'].mean()"
      ]
    },
    {
      "cell_type": "markdown",
      "id": "761baa4d",
      "metadata": {
        "id": "761baa4d"
      },
      "source": [
        " #### Hypothesis Testing: `osrm_time` vs `segment_osrm_time_sum` - t-test 2 samples"
      ]
    },
    {
      "cell_type": "markdown",
      "id": "a828a0f9",
      "metadata": {
        "id": "a828a0f9"
      },
      "source": [
        "- H0 ( Null Hypothesis ) is that mean of `osrm_time` and `segment_osrm_time_sum` are same\n",
        "- HA (Alternate Hypothesis) is that the means are different"
      ]
    },
    {
      "cell_type": "code",
      "execution_count": null,
      "id": "c543b24a",
      "metadata": {
        "id": "c543b24a",
        "outputId": "50a41311-b802-452c-e986-6ee402b8d81c"
      },
      "outputs": [
        {
          "data": {
            "text/plain": [
              "Ttest_indResult(statistic=-5.711782161676085, pvalue=1.128703468644937e-08)"
            ]
          },
          "execution_count": 440,
          "metadata": {},
          "output_type": "execute_result"
        }
      ],
      "source": [
        "stats.ttest_ind(trip['osrm_time'], trip['segment_osrm_time_sum'])"
      ]
    },
    {
      "cell_type": "markdown",
      "id": "476dccbc",
      "metadata": {
        "id": "476dccbc"
      },
      "source": [
        "There is a significant difference between `osrm_time` and `segment_osrm_time_sum`"
      ]
    },
    {
      "cell_type": "markdown",
      "id": "7f7ff9af",
      "metadata": {
        "id": "7f7ff9af"
      },
      "source": [
        "### Handling Outliers using IQR method"
      ]
    },
    {
      "cell_type": "code",
      "execution_count": null,
      "id": "3802fbe9",
      "metadata": {
        "id": "3802fbe9"
      },
      "outputs": [],
      "source": [
        "q1 = trip_numeric.quantile(0.25)\n",
        "q3 = trip_numeric.quantile(0.75)\n",
        "iqr = q3 - q1\n",
        "ub = q3 + 1.5*iqr"
      ]
    },
    {
      "cell_type": "code",
      "execution_count": null,
      "id": "e62f7e2b",
      "metadata": {
        "id": "e62f7e2b",
        "outputId": "c4c7cf28-6b2f-458b-d2b1-c4197997fa2e"
      },
      "outputs": [
        {
          "data": {
            "text/plain": [
              "Text(0.5, 1.0, 'Without Outliers')"
            ]
          },
          "execution_count": 718,
          "metadata": {},
          "output_type": "execute_result"
        },
        {
          "data": {
            "image/png": "[encoded data removed]",
            "text/plain": [
              "<Figure size 1000x500 with 2 Axes>"
            ]
          },
          "metadata": {},
          "output_type": "display_data"
        }
      ],
      "source": [
        "plt.figure(figsize=(10,5))\n",
        "\n",
        "\n",
        "plt.subplot(1, 2, 1)\n",
        "sns.boxplot(trip_numeric)\n",
        "plt.xticks(rotation=90)\n",
        "plt.title('With Outliers')\n",
        "\n",
        "plt.subplot(1, 2, 2)\n",
        "sns.boxplot(trip_numeric[np.all(trip_numeric<=ub, axis=1)])\n",
        "plt.xticks(rotation=90)\n",
        "plt.title('Without Outliers')\n",
        "\n"
      ]
    },
    {
      "cell_type": "markdown",
      "id": "334ccb3a",
      "metadata": {
        "id": "334ccb3a"
      },
      "source": [
        "## Do one-hot encoding of categorical variables - Categorical to Numerical"
      ]
    },
    {
      "cell_type": "code",
      "execution_count": null,
      "id": "93a9220c",
      "metadata": {
        "id": "93a9220c"
      },
      "outputs": [],
      "source": [
        "from sklearn.preprocessing import LabelEncoder\n",
        "from sklearn.preprocessing import StandardScaler\n",
        "label_encoder = LabelEncoder()\n"
      ]
    },
    {
      "cell_type": "code",
      "execution_count": null,
      "id": "ba857c91",
      "metadata": {
        "id": "ba857c91",
        "outputId": "8170c565-d550-4014-d00a-dc1fecd640b0"
      },
      "outputs": [
        {
          "data": {
            "text/plain": [
              "Carting    8906\n",
              "FTL        5881\n",
              "Name: route_type, dtype: int64"
            ]
          },
          "execution_count": 720,
          "metadata": {},
          "output_type": "execute_result"
        }
      ],
      "source": [
        "trip['route_type'].value_counts()"
      ]
    },
    {
      "cell_type": "code",
      "execution_count": null,
      "id": "d67069cb",
      "metadata": {
        "id": "d67069cb"
      },
      "outputs": [],
      "source": [
        "col='route_type'\n",
        "trip[col] = label_encoder.fit_transform(trip[col])"
      ]
    },
    {
      "cell_type": "code",
      "execution_count": null,
      "id": "aa1fcc50",
      "metadata": {
        "id": "aa1fcc50",
        "outputId": "931c36e8-5f50-4a97-d3c5-ef03c623cea1"
      },
      "outputs": [
        {
          "data": {
            "text/plain": [
              "0    8906\n",
              "1    5881\n",
              "Name: route_type, dtype: int64"
            ]
          },
          "execution_count": 722,
          "metadata": {},
          "output_type": "execute_result"
        }
      ],
      "source": [
        "trip['route_type'].value_counts()"
      ]
    },
    {
      "cell_type": "code",
      "execution_count": null,
      "id": "c3b25131",
      "metadata": {
        "id": "c3b25131",
        "outputId": "e870aa98-e84d-426f-befa-351d6dd96d11"
      },
      "outputs": [
        {
          "data": {
            "text/plain": [
              "training    10645\n",
              "test         4142\n",
              "Name: data, dtype: int64"
            ]
          },
          "execution_count": 723,
          "metadata": {},
          "output_type": "execute_result"
        }
      ],
      "source": [
        "trip['data'].value_counts()"
      ]
    },
    {
      "cell_type": "code",
      "execution_count": null,
      "id": "87b8314a",
      "metadata": {
        "id": "87b8314a"
      },
      "outputs": [],
      "source": [
        "col='data'\n",
        "trip[col] = label_encoder.fit_transform(trip[col])"
      ]
    },
    {
      "cell_type": "code",
      "execution_count": null,
      "id": "48b57cac",
      "metadata": {
        "id": "48b57cac",
        "outputId": "6ba16311-6bc5-4e45-8af1-11d615cdc22c"
      },
      "outputs": [
        {
          "data": {
            "text/plain": [
              "1    10645\n",
              "0     4142\n",
              "Name: data, dtype: int64"
            ]
          },
          "execution_count": 725,
          "metadata": {},
          "output_type": "execute_result"
        }
      ],
      "source": [
        "trip['data'].value_counts()"
      ]
    },
    {
      "cell_type": "markdown",
      "id": "2d33557e",
      "metadata": {
        "id": "2d33557e"
      },
      "source": [
        "### Standardization /Normalization"
      ]
    },
    {
      "cell_type": "code",
      "execution_count": null,
      "id": "8219cd28",
      "metadata": {
        "id": "8219cd28",
        "outputId": "3383d48a-8656-4f70-c9bc-ef3ab56405e9"
      },
      "outputs": [
        {
          "data": {
            "text/html": [
              "<div>\n",
              "<style scoped>\n",
              "    .dataframe tbody tr th:only-of-type {\n",
              "        vertical-align: middle;\n",
              "    }\n",
              "\n",
              "    .dataframe tbody tr th {\n",
              "        vertical-align: top;\n",
              "    }\n",
              "\n",
              "    .dataframe thead th {\n",
              "        text-align: right;\n",
              "    }\n",
              "</style>\n",
              "<table border=\"1\" class=\"dataframe\">\n",
              "  <thead>\n",
              "    <tr style=\"text-align: right;\">\n",
              "      <th></th>\n",
              "      <th>data</th>\n",
              "      <th>route_type</th>\n",
              "      <th>start_scan_to_end_scan</th>\n",
              "      <th>actual_distance_to_destination</th>\n",
              "      <th>actual_time</th>\n",
              "      <th>segment_actual_time_sum</th>\n",
              "      <th>segment_osrm_time_sum</th>\n",
              "      <th>segment_osrm_distance_sum</th>\n",
              "      <th>osrm_time</th>\n",
              "      <th>osrm_distance</th>\n",
              "    </tr>\n",
              "  </thead>\n",
              "  <tbody>\n",
              "    <tr>\n",
              "      <th>0</th>\n",
              "      <td>0.623781</td>\n",
              "      <td>1.230597</td>\n",
              "      <td>2.627598</td>\n",
              "      <td>2.162548</td>\n",
              "      <td>2.147277</td>\n",
              "      <td>2.147833</td>\n",
              "      <td>2.629714</td>\n",
              "      <td>2.633597</td>\n",
              "      <td>2.048290</td>\n",
              "      <td>2.125107</td>\n",
              "    </tr>\n",
              "    <tr>\n",
              "      <th>1</th>\n",
              "      <td>0.623781</td>\n",
              "      <td>-0.812614</td>\n",
              "      <td>-0.530859</td>\n",
              "      <td>-0.297563</td>\n",
              "      <td>-0.379887</td>\n",
              "      <td>-0.381164</td>\n",
              "      <td>-0.367090</td>\n",
              "      <td>-0.332307</td>\n",
              "      <td>-0.342571</td>\n",
              "      <td>-0.320538</td>\n",
              "    </tr>\n",
              "    <tr>\n",
              "      <th>2</th>\n",
              "      <td>0.623781</td>\n",
              "      <td>1.230597</td>\n",
              "      <td>5.170772</td>\n",
              "      <td>5.772034</td>\n",
              "      <td>5.326268</td>\n",
              "      <td>5.311325</td>\n",
              "      <td>5.594737</td>\n",
              "      <td>5.571936</td>\n",
              "      <td>5.816936</td>\n",
              "      <td>5.802622</td>\n",
              "    </tr>\n",
              "    <tr>\n",
              "      <th>3</th>\n",
              "      <td>0.623781</td>\n",
              "      <td>-0.812614</td>\n",
              "      <td>-0.652397</td>\n",
              "      <td>-0.480911</td>\n",
              "      <td>-0.529486</td>\n",
              "      <td>-0.528554</td>\n",
              "      <td>-0.522809</td>\n",
              "      <td>-0.486596</td>\n",
              "      <td>-0.537818</td>\n",
              "      <td>-0.497115</td>\n",
              "    </tr>\n",
              "    <tr>\n",
              "      <th>4</th>\n",
              "      <td>0.623781</td>\n",
              "      <td>1.230597</td>\n",
              "      <td>0.284962</td>\n",
              "      <td>-0.119943</td>\n",
              "      <td>-0.027259</td>\n",
              "      <td>-0.023473</td>\n",
              "      <td>-0.208192</td>\n",
              "      <td>-0.182120</td>\n",
              "      <td>-0.162059</td>\n",
              "      <td>-0.154082</td>\n",
              "    </tr>\n",
              "  </tbody>\n",
              "</table>\n",
              "</div>"
            ],
            "text/plain": [
              "       data  route_type  start_scan_to_end_scan  \\\n",
              "0  0.623781    1.230597                2.627598   \n",
              "1  0.623781   -0.812614               -0.530859   \n",
              "2  0.623781    1.230597                5.170772   \n",
              "3  0.623781   -0.812614               -0.652397   \n",
              "4  0.623781    1.230597                0.284962   \n",
              "\n",
              "   actual_distance_to_destination  actual_time  segment_actual_time_sum  \\\n",
              "0                        2.162548     2.147277                 2.147833   \n",
              "1                       -0.297563    -0.379887                -0.381164   \n",
              "2                        5.772034     5.326268                 5.311325   \n",
              "3                       -0.480911    -0.529486                -0.528554   \n",
              "4                       -0.119943    -0.027259                -0.023473   \n",
              "\n",
              "   segment_osrm_time_sum  segment_osrm_distance_sum  osrm_time  osrm_distance  \n",
              "0               2.629714                   2.633597   2.048290       2.125107  \n",
              "1              -0.367090                  -0.332307  -0.342571      -0.320538  \n",
              "2               5.594737                   5.571936   5.816936       5.802622  \n",
              "3              -0.522809                  -0.486596  -0.537818      -0.497115  \n",
              "4              -0.208192                  -0.182120  -0.162059      -0.154082  "
            ]
          },
          "execution_count": 726,
          "metadata": {},
          "output_type": "execute_result"
        }
      ],
      "source": [
        "scaler = StandardScaler()\n",
        "std_data = scaler.fit_transform(trip.select_dtypes(np.number))\n",
        "std_data = pd.DataFrame(std_data, columns=trip.select_dtypes(np.number).columns)\n",
        "std_data.head()"
      ]
    },
    {
      "cell_type": "code",
      "execution_count": null,
      "id": "3ebd3ca4",
      "metadata": {
        "id": "3ebd3ca4",
        "outputId": "b8b001f4-a069-4be6-b353-b7d237c87ffa"
      },
      "outputs": [
        {
          "data": {
            "text/html": [
              "<div>\n",
              "<style scoped>\n",
              "    .dataframe tbody tr th:only-of-type {\n",
              "        vertical-align: middle;\n",
              "    }\n",
              "\n",
              "    .dataframe tbody tr th {\n",
              "        vertical-align: top;\n",
              "    }\n",
              "\n",
              "    .dataframe thead th {\n",
              "        text-align: right;\n",
              "    }\n",
              "</style>\n",
              "<table border=\"1\" class=\"dataframe\">\n",
              "  <thead>\n",
              "    <tr style=\"text-align: right;\">\n",
              "      <th></th>\n",
              "      <th>data</th>\n",
              "      <th>route_type</th>\n",
              "      <th>start_scan_to_end_scan</th>\n",
              "      <th>actual_distance_to_destination</th>\n",
              "      <th>actual_time</th>\n",
              "      <th>segment_actual_time_sum</th>\n",
              "      <th>segment_osrm_time_sum</th>\n",
              "      <th>segment_osrm_distance_sum</th>\n",
              "      <th>osrm_time</th>\n",
              "      <th>osrm_distance</th>\n",
              "    </tr>\n",
              "  </thead>\n",
              "  <tbody>\n",
              "    <tr>\n",
              "      <th>0</th>\n",
              "      <td>0.623781</td>\n",
              "      <td>1.230597</td>\n",
              "      <td>2.627598</td>\n",
              "      <td>2.162548</td>\n",
              "      <td>2.147277</td>\n",
              "      <td>2.147833</td>\n",
              "      <td>2.629714</td>\n",
              "      <td>2.633597</td>\n",
              "      <td>2.048290</td>\n",
              "      <td>2.125107</td>\n",
              "    </tr>\n",
              "    <tr>\n",
              "      <th>1</th>\n",
              "      <td>0.623781</td>\n",
              "      <td>-0.812614</td>\n",
              "      <td>-0.530859</td>\n",
              "      <td>-0.297563</td>\n",
              "      <td>-0.379887</td>\n",
              "      <td>-0.381164</td>\n",
              "      <td>-0.367090</td>\n",
              "      <td>-0.332307</td>\n",
              "      <td>-0.342571</td>\n",
              "      <td>-0.320538</td>\n",
              "    </tr>\n",
              "    <tr>\n",
              "      <th>2</th>\n",
              "      <td>0.623781</td>\n",
              "      <td>1.230597</td>\n",
              "      <td>5.170772</td>\n",
              "      <td>5.772034</td>\n",
              "      <td>5.326268</td>\n",
              "      <td>5.311325</td>\n",
              "      <td>5.594737</td>\n",
              "      <td>5.571936</td>\n",
              "      <td>5.816936</td>\n",
              "      <td>5.802622</td>\n",
              "    </tr>\n",
              "    <tr>\n",
              "      <th>3</th>\n",
              "      <td>0.623781</td>\n",
              "      <td>-0.812614</td>\n",
              "      <td>-0.652397</td>\n",
              "      <td>-0.480911</td>\n",
              "      <td>-0.529486</td>\n",
              "      <td>-0.528554</td>\n",
              "      <td>-0.522809</td>\n",
              "      <td>-0.486596</td>\n",
              "      <td>-0.537818</td>\n",
              "      <td>-0.497115</td>\n",
              "    </tr>\n",
              "    <tr>\n",
              "      <th>4</th>\n",
              "      <td>0.623781</td>\n",
              "      <td>1.230597</td>\n",
              "      <td>0.284962</td>\n",
              "      <td>-0.119943</td>\n",
              "      <td>-0.027259</td>\n",
              "      <td>-0.023473</td>\n",
              "      <td>-0.208192</td>\n",
              "      <td>-0.182120</td>\n",
              "      <td>-0.162059</td>\n",
              "      <td>-0.154082</td>\n",
              "    </tr>\n",
              "    <tr>\n",
              "      <th>...</th>\n",
              "      <td>...</td>\n",
              "      <td>...</td>\n",
              "      <td>...</td>\n",
              "      <td>...</td>\n",
              "      <td>...</td>\n",
              "      <td>...</td>\n",
              "      <td>...</td>\n",
              "      <td>...</td>\n",
              "      <td>...</td>\n",
              "      <td>...</td>\n",
              "    </tr>\n",
              "    <tr>\n",
              "      <th>14782</th>\n",
              "      <td>-1.603126</td>\n",
              "      <td>-0.812614</td>\n",
              "      <td>-0.413880</td>\n",
              "      <td>-0.348054</td>\n",
              "      <td>-0.486744</td>\n",
              "      <td>-0.487213</td>\n",
              "      <td>-0.376623</td>\n",
              "      <td>-0.378690</td>\n",
              "      <td>-0.364674</td>\n",
              "      <td>-0.351972</td>\n",
              "    </tr>\n",
              "    <tr>\n",
              "      <th>14783</th>\n",
              "      <td>-1.603126</td>\n",
              "      <td>-0.812614</td>\n",
              "      <td>-0.713166</td>\n",
              "      <td>-0.486350</td>\n",
              "      <td>-0.597162</td>\n",
              "      <td>-0.596856</td>\n",
              "      <td>-0.538699</td>\n",
              "      <td>-0.495684</td>\n",
              "      <td>-0.548870</td>\n",
              "      <td>-0.506808</td>\n",
              "    </tr>\n",
              "    <tr>\n",
              "      <th>14784</th>\n",
              "      <td>-1.603126</td>\n",
              "      <td>-0.812614</td>\n",
              "      <td>-0.164728</td>\n",
              "      <td>-0.410502</td>\n",
              "      <td>-0.132335</td>\n",
              "      <td>-0.129522</td>\n",
              "      <td>-0.293997</td>\n",
              "      <td>-0.282653</td>\n",
              "      <td>-0.416249</td>\n",
              "      <td>-0.391263</td>\n",
              "    </tr>\n",
              "    <tr>\n",
              "      <th>14785</th>\n",
              "      <td>-1.603126</td>\n",
              "      <td>-0.812614</td>\n",
              "      <td>-0.277150</td>\n",
              "      <td>-0.096128</td>\n",
              "      <td>-0.164392</td>\n",
              "      <td>-0.170863</td>\n",
              "      <td>0.128670</td>\n",
              "      <td>0.001984</td>\n",
              "      <td>0.066344</td>\n",
              "      <td>-0.088455</td>\n",
              "    </tr>\n",
              "    <tr>\n",
              "      <th>14786</th>\n",
              "      <td>-1.603126</td>\n",
              "      <td>1.230597</td>\n",
              "      <td>-0.268034</td>\n",
              "      <td>-0.320822</td>\n",
              "      <td>-0.144802</td>\n",
              "      <td>-0.142104</td>\n",
              "      <td>-0.360734</td>\n",
              "      <td>-0.340969</td>\n",
              "      <td>-0.342571</td>\n",
              "      <td>-0.332769</td>\n",
              "    </tr>\n",
              "  </tbody>\n",
              "</table>\n",
              "<p>14787 rows × 10 columns</p>\n",
              "</div>"
            ],
            "text/plain": [
              "           data  route_type  start_scan_to_end_scan  \\\n",
              "0      0.623781    1.230597                2.627598   \n",
              "1      0.623781   -0.812614               -0.530859   \n",
              "2      0.623781    1.230597                5.170772   \n",
              "3      0.623781   -0.812614               -0.652397   \n",
              "4      0.623781    1.230597                0.284962   \n",
              "...         ...         ...                     ...   \n",
              "14782 -1.603126   -0.812614               -0.413880   \n",
              "14783 -1.603126   -0.812614               -0.713166   \n",
              "14784 -1.603126   -0.812614               -0.164728   \n",
              "14785 -1.603126   -0.812614               -0.277150   \n",
              "14786 -1.603126    1.230597               -0.268034   \n",
              "\n",
              "       actual_distance_to_destination  actual_time  segment_actual_time_sum  \\\n",
              "0                            2.162548     2.147277                 2.147833   \n",
              "1                           -0.297563    -0.379887                -0.381164   \n",
              "2                            5.772034     5.326268                 5.311325   \n",
              "3                           -0.480911    -0.529486                -0.528554   \n",
              "4                           -0.119943    -0.027259                -0.023473   \n",
              "...                               ...          ...                      ...   \n",
              "14782                       -0.348054    -0.486744                -0.487213   \n",
              "14783                       -0.486350    -0.597162                -0.596856   \n",
              "14784                       -0.410502    -0.132335                -0.129522   \n",
              "14785                       -0.096128    -0.164392                -0.170863   \n",
              "14786                       -0.320822    -0.144802                -0.142104   \n",
              "\n",
              "       segment_osrm_time_sum  segment_osrm_distance_sum  osrm_time  \\\n",
              "0                   2.629714                   2.633597   2.048290   \n",
              "1                  -0.367090                  -0.332307  -0.342571   \n",
              "2                   5.594737                   5.571936   5.816936   \n",
              "3                  -0.522809                  -0.486596  -0.537818   \n",
              "4                  -0.208192                  -0.182120  -0.162059   \n",
              "...                      ...                        ...        ...   \n",
              "14782              -0.376623                  -0.378690  -0.364674   \n",
              "14783              -0.538699                  -0.495684  -0.548870   \n",
              "14784              -0.293997                  -0.282653  -0.416249   \n",
              "14785               0.128670                   0.001984   0.066344   \n",
              "14786              -0.360734                  -0.340969  -0.342571   \n",
              "\n",
              "       osrm_distance  \n",
              "0           2.125107  \n",
              "1          -0.320538  \n",
              "2           5.802622  \n",
              "3          -0.497115  \n",
              "4          -0.154082  \n",
              "...              ...  \n",
              "14782      -0.351972  \n",
              "14783      -0.506808  \n",
              "14784      -0.391263  \n",
              "14785      -0.088455  \n",
              "14786      -0.332769  \n",
              "\n",
              "[14787 rows x 10 columns]"
            ]
          },
          "execution_count": 727,
          "metadata": {},
          "output_type": "execute_result"
        }
      ],
      "source": [
        "std_data"
      ]
    },
    {
      "cell_type": "code",
      "execution_count": null,
      "id": "d9c42d7f",
      "metadata": {
        "id": "d9c42d7f",
        "outputId": "11bf790c-aa66-4bf4-d7db-de60c6bb4bb8"
      },
      "outputs": [
        {
          "data": {
            "text/plain": [
              "<Axes: >"
            ]
          },
          "execution_count": 728,
          "metadata": {},
          "output_type": "execute_result"
        },
        {
          "data": {
            "image/png": "[encoded data removed]",
            "text/plain": [
              "<Figure size 640x480 with 2 Axes>"
            ]
          },
          "metadata": {},
          "output_type": "display_data"
        }
      ],
      "source": [
        "sns.heatmap(std_data.corr())"
      ]
    },
    {
      "cell_type": "markdown",
      "id": "b3833f63",
      "metadata": {
        "id": "b3833f63"
      },
      "source": [
        "- There is a strong correlation between `start_scan_to_end_scan` with `orsm_distance`. `orsm_time`, `segment_orsm_distance_sum`, `segment_orsm_time_sum`, `actual_time`, `actual_distance_to_destination`"
      ]
    },
    {
      "cell_type": "code",
      "execution_count": null,
      "id": "2e7c118f",
      "metadata": {
        "id": "2e7c118f",
        "outputId": "36d3f06f-704d-44f8-f2b7-b71f981f04c2"
      },
      "outputs": [
        {
          "data": {
            "text/plain": [
              "Index(['trip_uuid', 'data', 'trip_creation_time', 'route_schedule_uuid',\n",
              "       'route_type', 'source_name', 'destination_name',\n",
              "       'start_scan_to_end_scan', 'actual_distance_to_destination',\n",
              "       'actual_time', 'segment_actual_time_sum', 'segment_osrm_time_sum',\n",
              "       'segment_osrm_distance_sum', 'osrm_time', 'osrm_distance'],\n",
              "      dtype='object')"
            ]
          },
          "execution_count": 583,
          "metadata": {},
          "output_type": "execute_result"
        }
      ],
      "source": [
        "trip.columns"
      ]
    },
    {
      "cell_type": "code",
      "execution_count": null,
      "id": "99ac0079",
      "metadata": {
        "id": "99ac0079",
        "outputId": "32366a90-9e88-4a85-d2c2-04e7367ef47f"
      },
      "outputs": [
        {
          "data": {
            "text/plain": [
              "([0, 1, 2, 3, 4, 5],\n",
              " [Text(0, 0, 'Gurgaon'),\n",
              "  Text(1, 0, 'Mumbai'),\n",
              "  Text(2, 0, 'Delhi'),\n",
              "  Text(3, 0, 'Bangalore'),\n",
              "  Text(4, 0, 'Hyderabad'),\n",
              "  Text(5, 0, 'Bengaluru')])"
            ]
          },
          "execution_count": 731,
          "metadata": {},
          "output_type": "execute_result"
        },
        {
          "data": {
            "image/png": "[encoded data removed]",
            "text/plain": [
              "<Figure size 1000x500 with 2 Axes>"
            ]
          },
          "metadata": {},
          "output_type": "display_data"
        }
      ],
      "source": [
        "plt.figure(figsize=(10,5))\n",
        "\n",
        "\n",
        "plt.subplot(1, 2, 1)\n",
        "\n",
        "top_freq = trip['destination_state'].value_counts().nlargest(6)\n",
        "\n",
        "# filter the original data to keep only the values with top frequencies\n",
        "data_top6 = trip[trip['destination_state'].isin(top_freq.index)]\n",
        "sns.histplot(data_top6['destination_state'])\n",
        "plt.title('Most Frequent Destination States')\n",
        "plt.xticks(rotation=90)\n",
        "\n",
        "plt.subplot(1, 2, 2)\n",
        "top_freq = trip['destination_city'].value_counts().nlargest(6)\n",
        "\n",
        "# filter the original data to keep only the values with top frequencies\n",
        "data_top6 = trip[trip['destination_city'].isin(top_freq.index)]\n",
        "sns.histplot(data_top6['destination_city'])\n",
        "plt.title('Most Frequent Destination City')\n",
        "plt.xticks(rotation=90)"
      ]
    },
    {
      "cell_type": "markdown",
      "id": "74b50544",
      "metadata": {
        "id": "74b50544"
      },
      "source": [
        "- Maximum orders are in the states of `Maharashtra`, `Karnataka`, `Haryana`\n",
        "- Among cities, maximum orders are from `Bangalore`, `Gurgaon`, `Mumbai`"
      ]
    },
    {
      "cell_type": "markdown",
      "id": "cb0a938f",
      "metadata": {
        "id": "cb0a938f"
      },
      "source": [
        "## Feature Engineering : Extracting year, month, day from trip_creation_time"
      ]
    },
    {
      "cell_type": "code",
      "execution_count": null,
      "id": "23ff538f",
      "metadata": {
        "id": "23ff538f"
      },
      "outputs": [],
      "source": [
        "trip['trip_creation_day'] = trip['trip_creation_time'].dt.day\n",
        "trip['trip_creation_day_of_week'] = trip['trip_creation_time'].dt.weekday\n",
        "trip['trip_creation_month'] = trip['trip_creation_time'].dt.month\n",
        "trip['trip_creation_year'] = trip['trip_creation_time'].dt.year\n",
        "trip['trip_creation_day_category'] = pd.cut(trip['trip_creation_day'], bins=[0,7,14,21,28, 31], labels=['0-7', '8-14', '15-21', '22-28', '29-31'])"
      ]
    },
    {
      "cell_type": "code",
      "execution_count": null,
      "id": "950db82b",
      "metadata": {
        "id": "950db82b",
        "outputId": "ca8af254-bbbe-4baa-83af-62cc9d6053f0"
      },
      "outputs": [
        {
          "data": {
            "image/png": "[encoded data removed]",
            "text/plain": [
              "<Figure size 1500x500 with 3 Axes>"
            ]
          },
          "metadata": {},
          "output_type": "display_data"
        }
      ],
      "source": [
        "plt.figure(figsize=(15,5))\n",
        "plt.subplot(1, 3, 1)\n",
        "sns.histplot(trip['trip_creation_month'], bins=2)\n",
        "plt.title(\"Trip Creation Month Frequency Distribution\")\n",
        "\n",
        "plt.subplot(1, 3, 2)\n",
        "sns.histplot(trip['trip_creation_day_category'])\n",
        "plt.title(\"Trip Creation Month Frequency Distribution\")\n",
        "\n",
        "plt.subplot(1, 3, 3)\n",
        "sns.histplot(df['trip_creation_day_of_week'])\n",
        "\n",
        "plt.tight_layout()"
      ]
    },
    {
      "cell_type": "markdown",
      "id": "0d25cca2",
      "metadata": {
        "id": "0d25cca2"
      },
      "source": [
        "- From the dataset, the orders are for the monts of `September` and `October`\n",
        "- There are few orders towards the end of the month\n",
        "- Maximum orders are in the 3rd and 4th week of the month\n",
        "- Most of the orders take place on `Wednesday`.\n",
        "- The trend reduces towards the weekend."
      ]
    },
    {
      "cell_type": "markdown",
      "id": "7340374a",
      "metadata": {
        "id": "7340374a"
      },
      "source": [
        "### Business Insights"
      ]
    },
    {
      "cell_type": "markdown",
      "id": "472b388e",
      "metadata": {
        "id": "472b388e"
      },
      "source": [
        "- There is a significant difference between the actual_time and open_source_routing engine results. Data fed into the routing engine should be checked thoroughly. Bridging the gap between estimated_time and actual_time can help in efficient operations and improved customer satisfactions\n",
        "- Since Karnataka and Maharashtra are having the highest traffic, operations could be expanded here to absorb more customers.\n",
        "- Among the cities, Bangalore, Mumbai and Gurgaon have the highest traffic."
      ]
    },
    {
      "cell_type": "code",
      "execution_count": null,
      "id": "4dd7da6e",
      "metadata": {
        "id": "4dd7da6e"
      },
      "outputs": [],
      "source": []
    }
  ],
  "metadata": {
    "kernelspec": {
      "display_name": "Python 3 (ipykernel)",
      "language": "python",
      "name": "python3"
    },
    "language_info": {
      "codemirror_mode": {
        "name": "ipython",
        "version": 3
      },
      "file_extension": ".py",
      "mimetype": "text/x-python",
      "name": "python",
      "nbconvert_exporter": "python",
      "pygments_lexer": "ipython3",
      "version": "3.9.6"
    },
    "colab": {
      "provenance": [],
      "include_colab_link": true
    }
  },
  "nbformat": 4,
  "nbformat_minor": 5
}